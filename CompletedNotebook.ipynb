{
  "nbformat": 4,
  "nbformat_minor": 0,
  "metadata": {
    "colab": {
      "name": "CompletedNotebook.ipynb",
      "provenance": [],
      "collapsed_sections": [],
      "toc_visible": true,
      "authorship_tag": "ABX9TyNRTTM1bpFLcUPHTe0IhRrn",
      "include_colab_link": true
    },
    "kernelspec": {
      "name": "python3",
      "display_name": "Python 3"
    }
  },
  "cells": [
    {
      "cell_type": "markdown",
      "metadata": {
        "id": "view-in-github",
        "colab_type": "text"
      },
      "source": [
        "<a href=\"https://colab.research.google.com/github/SanTransisco/Fruit_Classification_Workshop/blob/master/CompletedNotebook.ipynb\" target=\"_parent\"><img src=\"https://colab.research.google.com/assets/colab-badge.svg\" alt=\"Open In Colab\"/></a>"
      ]
    },
    {
      "cell_type": "markdown",
      "metadata": {
        "id": "7Vhbqtb4Gu56",
        "colab_type": "text"
      },
      "source": [
        "# Importing all the libraries we need\n",
        "## The OS Library\n",
        "Use the os library to call github to grab our dataset and create some path variables"
      ]
    },
    {
      "cell_type": "code",
      "metadata": {
        "id": "jMM5GqgO5CY1",
        "colab_type": "code",
        "outputId": "c91e8aca-78b4-4d51-a257-3faa1c9baaf3",
        "colab": {
          "base_uri": "https://localhost:8080/",
          "height": 34
        }
      },
      "source": [
        "import os\n",
        "os.system(\"git clone https://github.com/SanTransisco/Subset_fruit_repo\")"
      ],
      "execution_count": 0,
      "outputs": [
        {
          "output_type": "execute_result",
          "data": {
            "text/plain": [
              "32768"
            ]
          },
          "metadata": {
            "tags": []
          },
          "execution_count": 64
        }
      ]
    },
    {
      "cell_type": "markdown",
      "metadata": {
        "id": "8wp3qyW8Gy31",
        "colab_type": "text"
      },
      "source": [
        "You have now cloned the dataset that we will be using for today's workshop. Go ahead and click on the file icon to the left to see the contents of what we have downloaded.\n",
        "\n",
        "Also now lets include some of the tenserflow libraries!"
      ]
    },
    {
      "cell_type": "markdown",
      "metadata": {
        "id": "ShYdT98dIKaj",
        "colab_type": "text"
      },
      "source": [
        "Sequential is the typical neural net model that is best easily visualized, and\n",
        "the one you should be most familiar with.\n",
        "https://miro.medium.com/max/874/1*eJ36Jpf-DE9q5nKk67xT0Q.jpeg"
      ]
    },
    {
      "cell_type": "code",
      "metadata": {
        "id": "teFijS2K4yBG",
        "colab_type": "code",
        "colab": {}
      },
      "source": [
        "from tensorflow.keras.models import Sequential\n",
        "\"\"\"\n",
        "os is used for the path object\n",
        "numpy and matplotlib are used for data visualization\n",
        "\"\"\"\n",
        "import numpy as np\n",
        "import matplotlib.pyplot as plt\n"
      ],
      "execution_count": 0,
      "outputs": []
    },
    {
      "cell_type": "markdown",
      "metadata": {
        "id": "VgW_JxJ9IS-O",
        "colab_type": "text"
      },
      "source": [
        "\n",
        "These will be the various layers that will go into the Sequential Neural Network model\n"
      ]
    },
    {
      "cell_type": "code",
      "metadata": {
        "id": "oiJYnBqxISuP",
        "colab_type": "code",
        "colab": {}
      },
      "source": [
        "from tensorflow.keras.layers import Dense, Conv2D, Flatten, Dropout, MaxPool2D\n",
        "from tensorflow.keras.preprocessing.image import ImageDataGenerator, load_img, img_to_array"
      ],
      "execution_count": 0,
      "outputs": []
    },
    {
      "cell_type": "markdown",
      "metadata": {
        "id": "euF_mtqn6piJ",
        "colab_type": "text"
      },
      "source": [
        "# The \"Lets Grab our Data\" step\n",
        "## Getting the right python path variables\n",
        "\n",
        "Our images are stored in a folder called \"Subset_fruit_repo\". But within that folder we have two datasets, the **training dataset** and the **testing dataset**\n",
        "\n",
        "Now to get started we should establish some variables so we can give the data to the Neural network\n"
      ]
    },
    {
      "cell_type": "code",
      "metadata": {
        "id": "wX8zpMPj6pyt",
        "colab_type": "code",
        "outputId": "99ff03df-e356-417e-d189-c3c7473e4780",
        "colab": {
          "base_uri": "https://localhost:8080/",
          "height": 51
        }
      },
      "source": [
        "PATH = os.path.realpath(\"Subset_fruit_repo\")\n",
        "print(\"This is the relative path for the dataset. Validate that this is correct\")\n",
        "print(PATH)\n"
      ],
      "execution_count": 0,
      "outputs": [
        {
          "output_type": "stream",
          "text": [
            "This is the relative path for the dataset. Validate that this is correct\n",
            "/content/Subset_fruit_repo\n"
          ],
          "name": "stdout"
        }
      ]
    },
    {
      "cell_type": "code",
      "metadata": {
        "id": "todPLa_C67ML",
        "colab_type": "code",
        "outputId": "3f690bec-b986-4abd-b60e-73fa7be7e7cb",
        "colab": {
          "base_uri": "https://localhost:8080/",
          "height": 51
        }
      },
      "source": [
        "train_dir = os.path.join(PATH, 'Train-Small')\n",
        "print(train_dir)\n",
        "validation_dir = os.path.join(PATH, 'Test-Small')\n",
        "print(validation_dir)"
      ],
      "execution_count": 0,
      "outputs": [
        {
          "output_type": "stream",
          "text": [
            "/content/Subset_fruit_repo/Train-Small\n",
            "/content/Subset_fruit_repo/Test-Small\n"
          ],
          "name": "stdout"
        }
      ]
    },
    {
      "cell_type": "code",
      "metadata": {
        "id": "HKEhEeiy7GCb",
        "colab_type": "code",
        "colab": {}
      },
      "source": [
        "batch_size = 45\n",
        "epochs = 10\n",
        "IMG_HEIGHT = 100\n",
        "IMG_WIDTH = 100\n",
        "NUM_TRAIN_EPOCHS = 20\n",
        "NUM_VAL_EPOCHS = 10\n",
        "\n",
        "\"\"\"\n",
        "Use this ImageDataGenerator object to scale/normalize the data from 0-255 to 0-1\n",
        "\"\"\"\n",
        "train_image_generator = ImageDataGenerator(rescale=1./255) # Generator for our training data\n",
        "validation_image_generator = ImageDataGenerator(rescale=1./255) # Generator for our validation data"
      ],
      "execution_count": 0,
      "outputs": []
    },
    {
      "cell_type": "code",
      "metadata": {
        "id": "3N4XPHZD7Isg",
        "colab_type": "code",
        "outputId": "1d28f7e9-9dfe-456b-f75e-75128e6201e1",
        "colab": {
          "base_uri": "https://localhost:8080/",
          "height": 68
        }
      },
      "source": [
        "train_data_gen = train_image_generator.flow_from_directory(batch_size=batch_size,\n",
        "                                                           directory=train_dir,\n",
        "                                                           shuffle=True,\n",
        "                                                           target_size=(IMG_HEIGHT, IMG_WIDTH),\n",
        "                                                           class_mode='categorical')\n",
        "\n",
        "validation_data_gen = train_image_generator.flow_from_directory(batch_size=batch_size,\n",
        "                                                           directory=validation_dir,\n",
        "                                                           target_size=(IMG_HEIGHT, IMG_WIDTH),\n",
        "                                                           class_mode='categorical')\n",
        "x = next(validation_data_gen)\n",
        "x[0].shape"
      ],
      "execution_count": 0,
      "outputs": [
        {
          "output_type": "stream",
          "text": [
            "Found 4398 images belonging to 8 classes.\n",
            "Found 1466 images belonging to 8 classes.\n"
          ],
          "name": "stdout"
        },
        {
          "output_type": "execute_result",
          "data": {
            "text/plain": [
              "(45, 100, 100, 3)"
            ]
          },
          "metadata": {
            "tags": []
          },
          "execution_count": 70
        }
      ]
    },
    {
      "cell_type": "markdown",
      "metadata": {
        "id": "IsCqFCO0JgMm",
        "colab_type": "text"
      },
      "source": [
        "# The part you've all been waiting for: Constructing our Neural Net\n"
      ]
    },
    {
      "cell_type": "code",
      "metadata": {
        "id": "0Enq2qcI7QPK",
        "colab_type": "code",
        "colab": {}
      },
      "source": [
        "model = Sequential([\n",
        "    Conv2D(10,2, padding = 'same' , activation = 'relu',  input_shape = (IMG_HEIGHT, IMG_WIDTH, 3)),\n",
        "    #So what are you trying to do with a max pooling layer?\n",
        "    #MaxPool2D(),\n",
        "    #Dropout(0.2),\n",
        "    Conv2D(32,3, padding = 'same' , activation = 'relu'),\n",
        "    #Conv2D(64,3, padding = 'same' , activation = 'relu'),\n",
        "    #MaxPool2D(),\n",
        "    #Dropout(0.2),\n",
        "    Flatten(),\n",
        "    Dense(512, activation = 'relu'),\n",
        "    Dense(8,activation = 'softmax')\n",
        "])"
      ],
      "execution_count": 0,
      "outputs": []
    },
    {
      "cell_type": "markdown",
      "metadata": {
        "id": "fjDNplTkqfxk",
        "colab_type": "text"
      },
      "source": [
        "Time to compile and start using our Convolutional Neural Net\n",
        "\n",
        "The compiler we are using for this model is adam, just cause :)\n",
        "\n",
        "The loss function we are using is called `categorical_crossentropy`\n",
        "\n",
        "This loss function is used because the output of our neural net is essentially a vector containing probabilities"
      ]
    },
    {
      "cell_type": "code",
      "metadata": {
        "id": "JDN7Zxpf7Uyb",
        "colab_type": "code",
        "outputId": "75eb45c8-155e-4cc3-ba64-bb521776b6f7",
        "colab": {
          "base_uri": "https://localhost:8080/",
          "height": 323
        }
      },
      "source": [
        "model.compile(optimizer = 'adam', loss = 'categorical_crossentropy', metrics = ['accuracy'])\n",
        "\n",
        "model.summary()"
      ],
      "execution_count": 0,
      "outputs": [
        {
          "output_type": "stream",
          "text": [
            "Model: \"sequential_4\"\n",
            "_________________________________________________________________\n",
            "Layer (type)                 Output Shape              Param #   \n",
            "=================================================================\n",
            "conv2d_11 (Conv2D)           (None, 100, 100, 10)      130       \n",
            "_________________________________________________________________\n",
            "conv2d_12 (Conv2D)           (None, 100, 100, 32)      2912      \n",
            "_________________________________________________________________\n",
            "flatten_4 (Flatten)          (None, 320000)            0         \n",
            "_________________________________________________________________\n",
            "dense_8 (Dense)              (None, 512)               163840512 \n",
            "_________________________________________________________________\n",
            "dense_9 (Dense)              (None, 8)                 4104      \n",
            "=================================================================\n",
            "Total params: 163,847,658\n",
            "Trainable params: 163,847,658\n",
            "Non-trainable params: 0\n",
            "_________________________________________________________________\n"
          ],
          "name": "stdout"
        }
      ]
    },
    {
      "cell_type": "markdown",
      "metadata": {
        "id": "uCqXo8YtrIvQ",
        "colab_type": "text"
      },
      "source": [
        "Now time to sit back and watch the model train itself!"
      ]
    },
    {
      "cell_type": "code",
      "metadata": {
        "id": "mU8GrI-E7X6J",
        "colab_type": "code",
        "outputId": "bb8150f3-7e25-4355-cfe8-3c7ffafa63f3",
        "colab": {
          "base_uri": "https://localhost:8080/",
          "height": 527
        }
      },
      "source": [
        "history = model.fit(\n",
        "    train_data_gen,\n",
        "    steps_per_epoch = NUM_TRAIN_EPOCHS,\n",
        "    epochs = epochs,\n",
        "    validation_data = validation_data_gen,\n",
        "    validation_steps = NUM_VAL_EPOCHS\n",
        ")"
      ],
      "execution_count": 0,
      "outputs": [
        {
          "output_type": "stream",
          "text": [
            "Epoch 1/10\n",
            "19/20 [===========================>..] - ETA: 2s - loss: 2.1964e-04 - acc: 1.0000Epoch 1/10\n",
            "20/20 [==============================] - 49s 2s/step - loss: 2.1929e-04 - acc: 1.0000 - val_loss: 0.0615 - val_acc: 0.9756\n",
            "Epoch 2/10\n",
            "19/20 [===========================>..] - ETA: 2s - loss: 2.0006e-04 - acc: 1.0000Epoch 1/10\n",
            "20/20 [==============================] - 49s 2s/step - loss: 2.0007e-04 - acc: 1.0000 - val_loss: 0.0890 - val_acc: 0.9533\n",
            "Epoch 3/10\n",
            "19/20 [===========================>..] - ETA: 2s - loss: 0.0052 - acc: 0.9988    Epoch 1/10\n",
            "20/20 [==============================] - 49s 2s/step - loss: 0.0050 - acc: 0.9989 - val_loss: 0.4884 - val_acc: 0.9156\n",
            "Epoch 4/10\n",
            "19/20 [===========================>..] - ETA: 2s - loss: 0.0067 - acc: 0.9977Epoch 1/10\n",
            "20/20 [==============================] - 49s 2s/step - loss: 0.0065 - acc: 0.9978 - val_loss: 0.1024 - val_acc: 0.9600\n",
            "Epoch 5/10\n",
            "19/20 [===========================>..] - ETA: 2s - loss: 8.7953e-04 - acc: 1.0000Epoch 1/10\n",
            "20/20 [==============================] - 49s 2s/step - loss: 8.7992e-04 - acc: 1.0000 - val_loss: 0.0910 - val_acc: 0.9556\n",
            "Epoch 6/10\n",
            "19/20 [===========================>..] - ETA: 2s - loss: 4.0446e-04 - acc: 1.0000Epoch 1/10\n",
            "20/20 [==============================] - 49s 2s/step - loss: 3.9035e-04 - acc: 1.0000 - val_loss: 0.0660 - val_acc: 0.9689\n",
            "Epoch 7/10\n",
            "19/20 [===========================>..] - ETA: 2s - loss: 0.0010 - acc: 1.0000Epoch 1/10\n",
            "20/20 [==============================] - 49s 2s/step - loss: 9.7271e-04 - acc: 1.0000 - val_loss: 0.1314 - val_acc: 0.9489\n",
            "Epoch 8/10\n",
            "19/20 [===========================>..] - ETA: 2s - loss: 2.4518e-04 - acc: 1.0000Epoch 1/10\n",
            "20/20 [==============================] - 49s 2s/step - loss: 2.3955e-04 - acc: 1.0000 - val_loss: 0.0745 - val_acc: 0.9667\n",
            "Epoch 9/10\n",
            "19/20 [===========================>..] - ETA: 2s - loss: 1.9034e-04 - acc: 1.0000Epoch 1/10\n",
            "20/20 [==============================] - 49s 2s/step - loss: 1.8931e-04 - acc: 1.0000 - val_loss: 0.0697 - val_acc: 0.9667\n",
            "Epoch 10/10\n",
            "19/20 [===========================>..] - ETA: 2s - loss: 1.4247e-04 - acc: 1.0000Epoch 1/10\n",
            "20/20 [==============================] - 49s 2s/step - loss: 1.3857e-04 - acc: 1.0000 - val_loss: 0.0605 - val_acc: 0.9689\n"
          ],
          "name": "stdout"
        }
      ]
    },
    {
      "cell_type": "markdown",
      "metadata": {
        "id": "5qY47wtcrNn9",
        "colab_type": "text"
      },
      "source": [
        "Time to analyze the performance of our model!\n",
        "\n",
        "The things we are looking at are going to be\n",
        "\n",
        "1.   Our Model's Accuracy (duh)\n",
        "2.   and our model's loss. \n",
        "\n",
        "Remember that categorical_crossentropy loss really spikes in value when our model was confident, but still got the classification wrong.\n",
        "\n"
      ]
    },
    {
      "cell_type": "code",
      "metadata": {
        "id": "LZRaO-PNSRze",
        "colab_type": "code",
        "outputId": "72fcb0f5-7132-434d-d199-7cc3664dfb8a",
        "colab": {
          "base_uri": "https://localhost:8080/",
          "height": 499
        }
      },
      "source": [
        "acc = history.history['acc']\n",
        "val_acc = history.history['val_acc']\n",
        "loss=history.history['loss']\n",
        "val_loss=history.history['val_loss']\n",
        "\n",
        "epochs_range = range(epochs)\n",
        "\n",
        "plt.figure(figsize=(8, 8))\n",
        "plt.subplot(1, 2, 1)\n",
        "plt.plot(epochs_range, acc, label='Training Accuracy')\n",
        "plt.plot(epochs_range, val_acc, label='Validation Accuracy')\n",
        "plt.legend(loc='lower right')\n",
        "plt.title('Training and Validation Accuracy')\n",
        "\n",
        "plt.subplot(1, 2, 2)\n",
        "plt.plot(epochs_range, loss, label='Training Loss')\n",
        "plt.plot(epochs_range, val_loss, label='Validation Loss')\n",
        "plt.legend(loc='upper right')\n",
        "plt.title('Training and Validation Loss')\n",
        "plt.show()"
      ],
      "execution_count": 0,
      "outputs": [
        {
          "output_type": "display_data",
          "data": {
            "image/png": "[encoded data removed]",
            "text/plain": [
              "<Figure size 576x576 with 2 Axes>"
            ]
          },
          "metadata": {
            "tags": []
          }
        }
      ]
    },
    {
      "cell_type": "markdown",
      "metadata": {
        "id": "k4Pyiu2nt_eL",
        "colab_type": "text"
      },
      "source": [
        "# How to use your model in an actual application setting\n"
      ]
    },
    {
      "cell_type": "code",
      "metadata": {
        "id": "A77ui9RsjWsv",
        "colab_type": "code",
        "colab": {}
      },
      "source": [
        "from PIL import Image\n",
        "def load(filename):\n",
        "    #Load the image into this image object\n",
        "   np_image = Image.open(filename)\n",
        "   #Take every individual value in each channel and rescale its values to be a value between 0 and 1\n",
        "   np_image = np.array(np_image).astype('float32')/255\n",
        "   #the neural net is expecting a \n",
        "   np_image = np.expand_dims(np_image, axis=0)\n",
        "   return np_image"
      ],
      "execution_count": 0,
      "outputs": []
    },
    {
      "cell_type": "code",
      "metadata": {
        "id": "F4j03f3xdrAx",
        "colab_type": "code",
        "colab": {}
      },
      "source": [
        "image_path = \"/content/Subset_fruit_repo/Train-Small/Lemon/0_100.jpg\"\n",
        "showimg = load_img(image_path)\n",
        "showimg.show()"
      ],
      "execution_count": 0,
      "outputs": []
    },
    {
      "cell_type": "code",
      "metadata": {
        "id": "R7JpmrXXkfl0",
        "colab_type": "code",
        "outputId": "171ad1fd-a2c8-4291-9759-e1b34a84e6e8",
        "colab": {
          "base_uri": "https://localhost:8080/",
          "height": 34
        }
      },
      "source": [
        "img = load(image_path)\n",
        "\n",
        "print(model.predict_classes(img))\n",
        "#This is 7 because the model prediced it was the 7th class in our data set aka lemons.\n",
        "#try to use other fruits to see what it displays"
      ],
      "execution_count": 0,
      "outputs": [
        {
          "output_type": "stream",
          "text": [
            "[7]\n"
          ],
          "name": "stdout"
        }
      ]
    },
    {
      "cell_type": "markdown",
      "metadata": {
        "id": "yahMgW-WLpsK",
        "colab_type": "text"
      },
      "source": [
        "model.save(\"fruit_model\")"
      ]
    }
  ]
}